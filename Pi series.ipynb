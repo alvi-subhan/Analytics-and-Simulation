{
  "nbformat": 4,
  "nbformat_minor": 0,
  "metadata": {
    "colab": {
      "name": "Untitled",
      "provenance": [],
      "collapsed_sections": [],
      "authorship_tag": "ABX9TyPjwFbL+UOm19RMhZCJ7HrY",
      "include_colab_link": true
    },
    "kernelspec": {
      "name": "python3",
      "display_name": "Python 3"
    },
    "accelerator": "TPU"
  },
  "cells": [
    {
      "cell_type": "markdown",
      "metadata": {
        "id": "view-in-github",
        "colab_type": "text"
      },
      "source": [
        "<a href=\"https://colab.research.google.com/github/alvi-subhan/Analytics-and-Simulation/blob/master/Pi%20series.ipynb\" target=\"_parent\"><img src=\"https://colab.research.google.com/assets/colab-badge.svg\" alt=\"Open In Colab\"/></a>"
      ]
    },
    {
      "cell_type": "code",
      "metadata": {
        "id": "We1JIujxKMrq",
        "colab_type": "code",
        "colab": {}
      },
      "source": [
        "import math\n",
        "default_tol= 1e-15"
      ],
      "execution_count": 0,
      "outputs": []
    },
    {
      "cell_type": "code",
      "metadata": {
        "id": "BYRGJB96TnE5",
        "colab_type": "code",
        "colab": {}
      },
      "source": [
        "\"\"\"decide if the input integer n is a thunder-split number or not, \n",
        "       return True if yes, False otherwise.\n",
        "       also, print out using the specified format when n is a thunder-split number.\n",
        "    \"\"\"\n",
        "\n",
        "    \n",
        "    #hint of the solution: loop over range(1,len(nstr)), get two integers at each step \n",
        "    #and determine if n is a  thunder-split number or not. \n",
        "    #(another hint: for the printout, you may need to use str in order to show the leading 0's)\n",
        "    #\n",
        "    #(add code below to finish this part)\n",
        "\n",
        "nstr = str(100)\n",
        "for i in range(1,len(nstr)):\n",
        "  \n",
        "\n",
        "  if (int((nstr[i-1]))+int((nstr[i])) )**2== int(nstr):\n",
        "    print(\"yes\")  \n"
      ],
      "execution_count": 0,
      "outputs": []
    },
    {
      "cell_type": "markdown",
      "metadata": {
        "id": "hH7OGfP3rWl1",
        "colab_type": "text"
      },
      "source": [
        "![image.png](data:image/png;base64,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)"
      ]
    },
    {
      "cell_type": "code",
      "metadata": {
        "id": "5cd28jI84LMY",
        "colab_type": "code",
        "colab": {}
      },
      "source": [
        "def  pi_pow2(tol=default_tol):     #this is for formula (1),  pow of order 2\n",
        "  x1=0\n",
        "  flag=True\n",
        "  j=0\n",
        "  while flag:\n",
        "    j+=1\n",
        "    # print(j)\n",
        "    if abs( x1- (x1+ (1/j**(2)) ) ) <tol :\n",
        "      # print(\"Yes\")\n",
        "      pie=(x1*6)**(1/2)\n",
        "      # print(pie)\n",
        "      break\n",
        "    else:\n",
        "        x1+=(1/j**(2)) \n",
        "\n",
        "  return pie,j"
      ],
      "execution_count": 0,
      "outputs": []
    },
    {
      "cell_type": "code",
      "metadata": {
        "id": "FG34rMyp7_a1",
        "colab_type": "code",
        "outputId": "fe39d3de-7ed7-49b5-d0dc-70ecbdcddcb3",
        "colab": {
          "base_uri": "https://localhost:8080/",
          "height": 558
        }
      },
      "source": [
        "#==========================================================================\n",
        "# do not change the code below this line\n",
        "#\n",
        "from  timeit  import  default_timer\n",
        "\n",
        "def accuracy_check(pi_func, nterm, tol=1e-10):\n",
        "\n",
        "    tstart = default_timer()\n",
        "    pi, n = pi_func(tol=tol)\n",
        "    tend = default_timer() - tstart\n",
        "    print(\"\\n\\nAccuracy check for {}\".format(pi_func))\n",
        "    print(\"  your returned pi = {},  computed using {} terms of sum, in {:.7f} seconds\".format(pi, n, tend))\n",
        "    error = abs(math.pi - pi)\n",
        "    print(\"  error = |math.pi - pi| ={}\".format(error))\n",
        "\n",
        "    if abs(n - nterm) >= 3:\n",
        "        print('  your # of terms is {}, should be {} plus/minus at most 2'.format(n, nterm))\n",
        "    else:\n",
        "        print('  your # of terms is {}, target is {}'.format(n, nterm))\n",
        "        \n",
        "    if error > tol**0.5:\n",
        "        print('***** Test failed: wrong value of pi from {}'.format(pi_func))\n",
        "    elif error > max(1e-10, tol*10):\n",
        "        print('Test barely passed, likely due to the inefficiency in the summing formula or using too few terms, not due to your code implementation')\n",
        "    else:\n",
        "        print('Test passed for {}'.format(pi_func))\n",
        "\n",
        "        \n",
        "#==========================================================================\n",
        "if __name__=='__main__':\n",
        "\n",
        "    pi_functions = [pi_pow2]\n",
        "    nterm1 = [31622777]\n",
        "    nterm2 = [100001]\n",
        "    nterm3 = [100000001]\n",
        "    \n",
        "    print('\\n\\n-----------  first test, using default tol ----------------')\n",
        "    for (pi_fun, nt) in zip(pi_functions, nterm1):\n",
        "        accuracy_check(pi_fun, nt, tol=default_tol)\n",
        "\n",
        "    print('\\n\\n-----------  2nd test, using tol=1e-10 ----------------')\n",
        "    for (pi_fun, nt) in zip(pi_functions, nterm2):\n",
        "        accuracy_check(pi_fun, nt, tol=1e-10)\n",
        "\n",
        "    print('\\n\\n------  3rd test, using tol=1e-16, except _pow2, all others should pass  -------')    \n",
        "    for (pi_fun, nt) in zip(pi_functions, nterm3):\n",
        "        accuracy_check(pi_fun, nt, tol=1e-16)\n"
      ],
      "execution_count": 0,
      "outputs": [
        {
          "output_type": "stream",
          "text": [
            "\n",
            "\n",
            "-----------  first test, using default tol ----------------\n",
            "\n",
            "\n",
            "Accuracy check for <function pi_pow2 at 0x7fe2061c20d0>\n",
            "  your returned pi = 3.1415926234662965,  computed using 31635422 terms of sum, in 21.3275969 seconds\n",
            "  error = |math.pi - pi| =3.0123496586043075e-08\n",
            "  your # of terms is 31635422, should be 31622777 plus/minus at most 2\n",
            "Test barely passed, likely due to the inefficiency in the summing formula or using too few terms, not due to your code implementation\n",
            "\n",
            "\n",
            "-----------  2nd test, using tol=1e-10 ----------------\n",
            "\n",
            "\n",
            "Accuracy check for <function pi_pow2 at 0x7fe2061c20d0>\n",
            "  your returned pi = 3.141583104326456,  computed using 100001 terms of sum, in 0.0676199 seconds\n",
            "  error = |math.pi - pi| =9.549263336960934e-06\n",
            "  your # of terms is 100001, target is 100001\n",
            "Test barely passed, likely due to the inefficiency in the summing formula or using too few terms, not due to your code implementation\n",
            "\n",
            "\n",
            "------  3rd test, using tol=1e-16, except _pow2, all others should pass  -------\n",
            "\n",
            "\n",
            "Accuracy check for <function pi_pow2 at 0x7fe2061c20d0>\n",
            "  your returned pi = 3.14159264498239,  computed using 94906266 terms of sum, in 64.2423716 seconds\n",
            "  error = |math.pi - pi| =8.607403234606181e-09\n",
            "  your # of terms is 94906266, should be 100000001 plus/minus at most 2\n",
            "Test barely passed, likely due to the inefficiency in the summing formula or using too few terms, not due to your code implementation\n"
          ],
          "name": "stdout"
        }
      ]
    },
    {
      "cell_type": "markdown",
      "metadata": {
        "id": "8FXw8iqezr5L",
        "colab_type": "text"
      },
      "source": [
        "![image.png](data:image/png;base64,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)"
      ]
    },
    {
      "cell_type": "code",
      "metadata": {
        "id": "rc4JRAGW0i5a",
        "colab_type": "code",
        "colab": {}
      },
      "source": [
        "tol=1e-10"
      ],
      "execution_count": 0,
      "outputs": []
    },
    {
      "cell_type": "code",
      "metadata": {
        "id": "PWul3kjwNca9",
        "colab_type": "code",
        "colab": {}
      },
      "source": [
        "def  pi_pow2_2(tol=default_tol):   #this is for formula (2),  another formula for pow of order 2\n",
        "  flag=True\n",
        "  j=0\n",
        "  x2=0\n",
        "  while flag:\n",
        "    j+=1\n",
        "    # print(j)\n",
        "    if abs( x2- (x2+ (1/(2*j -1)**(2)) ) ) <tol :\n",
        "      # print(\"Yes\")\n",
        "      pie=(x2*8)**(1/2)\n",
        "      # print(pie)\n",
        "      break\n",
        "    else:\n",
        "        x2+=(1/(2*j -1)**(2))\n",
        "\n",
        "  return pie,j"
      ],
      "execution_count": 0,
      "outputs": []
    },
    {
      "cell_type": "code",
      "metadata": {
        "id": "LFYN5vXY2_Ph",
        "colab_type": "code",
        "outputId": "d0f2f625-f797-4bf5-d190-9a19d6341f9f",
        "colab": {
          "base_uri": "https://localhost:8080/",
          "height": 52
        }
      },
      "source": [
        "pi_pow2_2()"
      ],
      "execution_count": 0,
      "outputs": [
        {
          "output_type": "stream",
          "text": [
            "3.141592633507519\n"
          ],
          "name": "stdout"
        },
        {
          "output_type": "execute_result",
          "data": {
            "text/plain": [
              "(3.141592633507519, 15817712)"
            ]
          },
          "metadata": {
            "tags": []
          },
          "execution_count": 20
        }
      ]
    },
    {
      "cell_type": "code",
      "metadata": {
        "id": "iuq6XiLQ1fg7",
        "colab_type": "code",
        "outputId": "de1537c4-8464-448e-bfab-85b532f166d2",
        "colab": {
          "base_uri": "https://localhost:8080/",
          "height": 610
        }
      },
      "source": [
        "from  timeit  import  default_timer\n",
        "\n",
        "def accuracy_check(pi_func, nterm, tol=1e-10):\n",
        "\n",
        "    tstart = default_timer()\n",
        "    pi, n = pi_func(tol=tol)\n",
        "    tend = default_timer() - tstart\n",
        "    print(\"\\n\\nAccuracy check for {}\".format(pi_func))\n",
        "    print(\"  your returned pi = {},  computed using {} terms of sum, in {:.7f} seconds\".format(pi, n, tend))\n",
        "    error = abs(math.pi - pi)\n",
        "    print(\"  error = |math.pi - pi| ={}\".format(error))\n",
        "\n",
        "    if abs(n - nterm) >= 3:\n",
        "        print('  your # of terms is {}, should be {} plus/minus at most 2'.format(n, nterm))\n",
        "    else:\n",
        "        print('  your # of terms is {}, target is {}'.format(n, nterm))\n",
        "        \n",
        "    if error > tol**0.5:\n",
        "        print('***** Test failed: wrong value of pi from {}'.format(pi_func))\n",
        "    elif error > max(1e-10, tol*10):\n",
        "        print('Test barely passed, likely due to the inefficiency in the summing formula or using too few terms, not due to your code implementation')\n",
        "    else:\n",
        "        print('Test passed for {}'.format(pi_func))\n",
        "\n",
        "        \n",
        "#==========================================================================\n",
        "if __name__=='__main__':\n",
        "\n",
        "    pi_functions = [pi_pow2_2]\n",
        "    nterm1 = [15811389]\n",
        "    nterm2 = [50001]\n",
        "    nterm3 = [50000001]\n",
        "    \n",
        "    print('\\n\\n-----------  first test, using default tol ----------------')\n",
        "    for (pi_fun, nt) in zip(pi_functions, nterm1):\n",
        "        accuracy_check(pi_fun, nt, tol=default_tol)\n",
        "\n",
        "    print('\\n\\n-----------  2nd test, using tol=1e-10 ----------------')\n",
        "    for (pi_fun, nt) in zip(pi_functions, nterm2):\n",
        "        accuracy_check(pi_fun, nt, tol=1e-10)\n",
        "\n",
        "    print('\\n\\n------  3rd test, using tol=1e-16, except _pow2, all others should pass  -------')    \n",
        "    for (pi_fun, nt) in zip(pi_functions, nterm3):\n",
        "        accuracy_check(pi_fun, nt, tol=1e-16)\n"
      ],
      "execution_count": 0,
      "outputs": [
        {
          "output_type": "stream",
          "text": [
            "\n",
            "\n",
            "-----------  first test, using default tol ----------------\n",
            "3.141592633507519\n",
            "\n",
            "\n",
            "Accuracy check for <function pi_pow2_2 at 0x7fe206174598>\n",
            "  your returned pi = 3.141592633507519,  computed using 15817712 terms of sum, in 12.6971574 seconds\n",
            "  error = |math.pi - pi| =2.0082274065913452e-08\n",
            "  your # of terms is 15817712, should be 15811389 plus/minus at most 2\n",
            "Test barely passed, likely due to the inefficiency in the summing formula or using too few terms, not due to your code implementation\n",
            "\n",
            "\n",
            "-----------  2nd test, using tol=1e-10 ----------------\n",
            "3.1415862873856475\n",
            "\n",
            "\n",
            "Accuracy check for <function pi_pow2_2 at 0x7fe206174598>\n",
            "  your returned pi = 3.1415862873856475,  computed using 50001 terms of sum, in 0.0410763 seconds\n",
            "  error = |math.pi - pi| =6.366204145624721e-06\n",
            "  your # of terms is 50001, target is 50001\n",
            "Test barely passed, likely due to the inefficiency in the summing formula or using too few terms, not due to your code implementation\n",
            "\n",
            "\n",
            "------  3rd test, using tol=1e-16, except _pow2, all others should pass  -------\n",
            "3.141592647851581\n",
            "\n",
            "\n",
            "Accuracy check for <function pi_pow2_2 at 0x7fe206174598>\n",
            "  your returned pi = 3.141592647851581,  computed using 47453134 terms of sum, in 38.0837020 seconds\n",
            "  error = |math.pi - pi| =5.738212127681663e-09\n",
            "  your # of terms is 47453134, should be 50000001 plus/minus at most 2\n",
            "Test barely passed, likely due to the inefficiency in the summing formula or using too few terms, not due to your code implementation\n"
          ],
          "name": "stdout"
        }
      ]
    },
    {
      "cell_type": "markdown",
      "metadata": {
        "id": "XsHopxQ2jJAO",
        "colab_type": "text"
      },
      "source": [
        "![image.png](data:image/png;base64,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)"
      ]
    },
    {
      "cell_type": "code",
      "metadata": {
        "id": "HwXp61cZJVOM",
        "colab_type": "code",
        "colab": {}
      },
      "source": [
        "default_tol= 1e-15"
      ],
      "execution_count": 0,
      "outputs": []
    },
    {
      "cell_type": "code",
      "metadata": {
        "id": "bWB_fAEyh_AD",
        "colab_type": "code",
        "colab": {}
      },
      "source": [
        "def pi_pow3(tol=default_tol):     #this is for formula (3),  pow of order 3\n",
        "  x3=0\n",
        "  flag=True\n",
        "  j=0\n",
        "  while flag:\n",
        "    j+=1\n",
        "  # print(j)\n",
        "    if abs( x3- (x3+((-1)**(j-1) )/((2*j -1 )**3)) ) <tol :\n",
        "      # print(\"Yes\")\n",
        "      # print((x3*32)**(1/3))\n",
        "      pie=(x3*32)**(1/3)\n",
        "      break\n",
        "    else:\n",
        "        x3+=((-1)**(j-1) )/((2*j -1 )**3)\n",
        "  \n",
        "  return pie,j"
      ],
      "execution_count": 0,
      "outputs": []
    },
    {
      "cell_type": "code",
      "metadata": {
        "id": "WcgumImNfV56",
        "colab_type": "code",
        "colab": {}
      },
      "source": [
        "pi_pow3()"
      ],
      "execution_count": 0,
      "outputs": []
    },
    {
      "cell_type": "code",
      "metadata": {
        "id": "oC9ccsywJQm6",
        "colab_type": "code",
        "colab": {}
      },
      "source": [
        "from  timeit  import  default_timer\n",
        "\n",
        "def accuracy_check(pi_func, nterm, tol=1e-10):\n",
        "\n",
        "    tstart = default_timer()\n",
        "    pi, n = pi_func(tol=tol)\n",
        "    tend = default_timer() - tstart\n",
        "    print(\"\\n\\nAccuracy check for {}\".format(pi_func))\n",
        "    print(\"  your returned pi = {},  computed using {} terms of sum, in {:.7f} seconds\".format(pi, n, tend))\n",
        "    error = abs(math.pi - pi)\n",
        "    print(\"  error = |math.pi - pi| ={}\".format(error))\n",
        "\n",
        "    if abs(n - nterm) >= 3:\n",
        "        print('  your # of terms is {}, should be {} plus/minus at most 2'.format(n, nterm))\n",
        "    else:\n",
        "        print('  your # of terms is {}, target is {}'.format(n, nterm))\n",
        "        \n",
        "    if error > tol**0.5:\n",
        "        print('***** Test failed: wrong value of pi from {}'.format(pi_func))\n",
        "    elif error > max(1e-10, tol*10):\n",
        "        print('Test barely passed, likely due to the inefficiency in the summing formula or using too few terms, not due to your code implementation')\n",
        "    else:\n",
        "        print('Test passed for {}'.format(pi_func))\n",
        "\n",
        "        \n",
        "#==========================================================================\n",
        "if __name__=='__main__':\n",
        "\n",
        "    pi_functions = [pi_pow3]\n",
        "    nterm1 = [ 50001]\n",
        "    nterm2 = [ 1078]\n",
        "    nterm3 = [ 107723]\n",
        "    \n",
        "    print('\\n\\n-----------  first test, using default tol ----------------')\n",
        "    for (pi_fun, nt) in zip(pi_functions, nterm1):\n",
        "        accuracy_check(pi_fun, nt, tol=default_tol)\n",
        "\n",
        "    print('\\n\\n-----------  2nd test, using tol=1e-10 ----------------')\n",
        "    for (pi_fun, nt) in zip(pi_functions, nterm2):\n",
        "        accuracy_check(pi_fun, nt, tol=1e-10)\n",
        "\n",
        "    print('\\n\\n------  3rd test, using tol=1e-16, except _pow2, all others should pass  -------')    \n",
        "    for (pi_fun, nt) in zip(pi_functions, nterm3):\n",
        "        accuracy_check(pi_fun, nt, tol=1e-16)\n"
      ],
      "execution_count": 0,
      "outputs": []
    },
    {
      "cell_type": "markdown",
      "metadata": {
        "id": "oQ5JmxQn5C34",
        "colab_type": "text"
      },
      "source": [
        "![image.png](data:image/png;base64,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)"
      ]
    },
    {
      "cell_type": "code",
      "metadata": {
        "id": "W4F3tKXKIGNG",
        "colab_type": "code",
        "colab": {}
      },
      "source": [
        "def pi_pow4(tol=default_tol):     #this is for formula (4),  pow of order 4\n",
        "  x4=0\n",
        "  flag=True\n",
        "  j=0\n",
        "  while flag:\n",
        "    j+=1\n",
        "  # print(j)\n",
        "    if abs( x4- (x4+(1/j**(4)) ) ) <tol :\n",
        "      # print(\"Yes\")\n",
        "      # print((x3*32)**(1/3))\n",
        "      pie=(x4*90)**(1/4)\n",
        "      break\n",
        "    else:\n",
        "        x4+=(1/j**(4))\n",
        "          \n",
        "  return pie,j"
      ],
      "execution_count": 0,
      "outputs": []
    },
    {
      "cell_type": "code",
      "metadata": {
        "id": "O8AmMQnqqqIC",
        "colab_type": "code",
        "colab": {
          "base_uri": "https://localhost:8080/",
          "height": 34
        },
        "outputId": "5f76b582-77ea-4f88-bd13-8c9f2e0cf64c"
      },
      "source": [
        "pi_pow4()"
      ],
      "execution_count": 7,
      "outputs": [
        {
          "output_type": "execute_result",
          "data": {
            "text/plain": [
              "(3.14159265358844, 5625)"
            ]
          },
          "metadata": {
            "tags": []
          },
          "execution_count": 7
        }
      ]
    },
    {
      "cell_type": "code",
      "metadata": {
        "id": "I3yCOaUs8yGr",
        "colab_type": "code",
        "colab": {
          "base_uri": "https://localhost:8080/",
          "height": 558
        },
        "outputId": "2fee644b-3c03-4ece-aa0e-2a3fb04ae8ba"
      },
      "source": [
        "from  timeit  import  default_timer\n",
        "\n",
        "def accuracy_check(pi_func, nterm, tol=1e-10):\n",
        "\n",
        "    tstart = default_timer()\n",
        "    pi, n = pi_func(tol=tol)\n",
        "    tend = default_timer() - tstart\n",
        "    print(\"\\n\\nAccuracy check for {}\".format(pi_func))\n",
        "    print(\"  your returned pi = {},  computed using {} terms of sum, in {:.7f} seconds\".format(pi, n, tend))\n",
        "    error = abs(math.pi - pi)\n",
        "    print(\"  error = |math.pi - pi| ={}\".format(error))\n",
        "\n",
        "    if abs(n - nterm) >= 3:\n",
        "        print('  your # of terms is {}, should be {} plus/minus at most 2'.format(n, nterm))\n",
        "    else:\n",
        "        print('  your # of terms is {}, target is {}'.format(n, nterm))\n",
        "        \n",
        "    if error > tol**0.5:\n",
        "        print('***** Test failed: wrong value of pi from {}'.format(pi_func))\n",
        "    elif error > max(1e-10, tol*10):\n",
        "        print('Test barely passed, likely due to the inefficiency in the summing formula or using too few terms, not due to your code implementation')\n",
        "    else:\n",
        "        print('Test passed for {}'.format(pi_func))\n",
        "\n",
        "        \n",
        "#==========================================================================\n",
        "if __name__=='__main__':\n",
        "\n",
        "    pi_functions = [pi_pow4]\n",
        "    nterm1 = [5624]\n",
        "    nterm2 = [ 317]\n",
        "    nterm3 = [ 10001]\n",
        "    \n",
        "    print('\\n\\n-----------  first test, using default tol ----------------')\n",
        "    for (pi_fun, nt) in zip(pi_functions, nterm1):\n",
        "        accuracy_check(pi_fun, nt, tol=default_tol)\n",
        "\n",
        "    print('\\n\\n-----------  2nd test, using tol=1e-10 ----------------')\n",
        "    for (pi_fun, nt) in zip(pi_functions, nterm2):\n",
        "        accuracy_check(pi_fun, nt, tol=1e-10)\n",
        "\n",
        "    print('\\n\\n------  3rd test, using tol=1e-16, except _pow2, all others should pass  -------')    \n",
        "    for (pi_fun, nt) in zip(pi_functions, nterm3):\n",
        "        accuracy_check(pi_fun, nt, tol=1e-16)\n"
      ],
      "execution_count": 8,
      "outputs": [
        {
          "output_type": "stream",
          "text": [
            "\n",
            "\n",
            "-----------  first test, using default tol ----------------\n",
            "\n",
            "\n",
            "Accuracy check for <function pi_pow4 at 0x7f1cf4bb3598>\n",
            "  your returned pi = 3.14159265358844,  computed using 5625 terms of sum, in 0.0040243 seconds\n",
            "  error = |math.pi - pi| =1.3531398224131408e-12\n",
            "  your # of terms is 5625, target is 5624\n",
            "Test passed for <function pi_pow4 at 0x7f1cf4bb3598>\n",
            "\n",
            "\n",
            "-----------  2nd test, using tol=1e-10 ----------------\n",
            "\n",
            "\n",
            "Accuracy check for <function pi_pow4 at 0x7f1cf4bb3598>\n",
            "  your returned pi = 3.1415926459604284,  computed using 317 terms of sum, in 0.0003230 seconds\n",
            "  error = |math.pi - pi| =7.629364695560525e-09\n",
            "  your # of terms is 317, target is 317\n",
            "Test barely passed, likely due to the inefficiency in the summing formula or using too few terms, not due to your code implementation\n",
            "\n",
            "\n",
            "------  3rd test, using tol=1e-16, except _pow2, all others should pass  -------\n",
            "\n",
            "\n",
            "Accuracy check for <function pi_pow4 at 0x7f1cf4bb3598>\n",
            "  your returned pi = 3.141592653589592,  computed using 9742 terms of sum, in 0.0083970 seconds\n",
            "  error = |math.pi - pi| =2.0117241206207837e-13\n",
            "  your # of terms is 9742, should be 10001 plus/minus at most 2\n",
            "Test passed for <function pi_pow4 at 0x7f1cf4bb3598>\n"
          ],
          "name": "stdout"
        }
      ]
    },
    {
      "cell_type": "markdown",
      "metadata": {
        "id": "QcpkustvtGvG",
        "colab_type": "text"
      },
      "source": [
        "![image.png](data:image/png;base64,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)"
      ]
    },
    {
      "cell_type": "code",
      "metadata": {
        "id": "I_IULhdr8zA2",
        "colab_type": "code",
        "colab": {}
      },
      "source": [
        "def  pi_pow4_2(tol=default_tol):   #this is for formula (5),  another pow of order 4\n",
        "  flag=True\n",
        "  j=0\n",
        "  x5=0\n",
        "  while flag:\n",
        "    j+=1\n",
        "    # print(j)\n",
        "    if abs( x5- (x5+ (1/(2*j -1)**(4)) ) ) <tol :\n",
        "      # print(\"Yes\")\n",
        "      pie=(x5*8)**(1/2)\n",
        "      # print(pie)\n",
        "      break\n",
        "    else:\n",
        "        x5+=(1/(2*j -1)**(4))\n",
        "\n",
        "  return pie,j\n"
      ],
      "execution_count": 0,
      "outputs": []
    },
    {
      "cell_type": "code",
      "metadata": {
        "id": "yOWug1JQaGaN",
        "colab_type": "code",
        "colab": {}
      },
      "source": [
        "from  timeit  import  default_timer\n",
        "\n",
        "def accuracy_check(pi_func, nterm, tol=1e-10):\n",
        "\n",
        "    tstart = default_timer()\n",
        "    pi, n = pi_func(tol=tol)\n",
        "    tend = default_timer() - tstart\n",
        "    print(\"\\n\\nAccuracy check for {}\".format(pi_func))\n",
        "    print(\"  your returned pi = {},  computed using {} terms of sum, in {:.7f} seconds\".format(pi, n, tend))\n",
        "    error = abs(math.pi - pi)\n",
        "    print(\"  error = |math.pi - pi| ={}\".format(error))\n",
        "\n",
        "    if abs(n - nterm) >= 3:\n",
        "        print('  your # of terms is {}, should be {} plus/minus at most 2'.format(n, nterm))\n",
        "    else:\n",
        "        print('  your # of terms is {}, target is {}'.format(n, nterm))\n",
        "        \n",
        "    if error > tol**0.5:\n",
        "        print('***** Test failed: wrong value of pi from {}'.format(pi_func))\n",
        "    elif error > max(1e-10, tol*10):\n",
        "        print('Test barely passed, likely due to the inefficiency in the summing formula or using too few terms, not due to your code implementation')\n",
        "    else:\n",
        "        print('Test passed for {}'.format(pi_func))\n",
        "\n",
        "        \n",
        "#==========================================================================\n",
        "if __name__=='__main__':\n",
        "\n",
        "    pi_functions = [pi_pow2, pi_pow2_2, pi_pow3]\n",
        "    nterm1 = [31622777, 15811389, 50001]\n",
        "    nterm2 = [100001, 50001, 1078]\n",
        "    nterm3 = [100000001, 50000001, 107723]\n",
        "    \n",
        "    print('\\n\\n-----------  first test, using default tol ----------------')\n",
        "    for (pi_fun, nt) in zip(pi_functions, nterm1):\n",
        "        accuracy_check(pi_fun, nt, tol=default_tol)\n",
        "\n",
        "    print('\\n\\n-----------  2nd test, using tol=1e-10 ----------------')\n",
        "    for (pi_fun, nt) in zip(pi_functions, nterm2):\n",
        "        accuracy_check(pi_fun, nt, tol=1e-10)\n",
        "\n",
        "    print('\\n\\n------  3rd test, using tol=1e-16, except _pow2, all others should pass  -------')    \n",
        "    for (pi_fun, nt) in zip(pi_functions, nterm3):\n",
        "        accuracy_check(pi_fun, nt, tol=1e-16)\n"
      ],
      "execution_count": 0,
      "outputs": []
    }
  ]
}