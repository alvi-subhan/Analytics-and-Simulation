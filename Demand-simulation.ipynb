{
 "cells": [
  {
   "cell_type": "code",
   "execution_count": 11,
   "metadata": {},
   "outputs": [],
   "source": [
    "import numpy as np\n",
    "import pandas as pd\n",
    "import random\n",
    "import matplotlib.pyplot as plt"
   ]
  },
  {
   "cell_type": "markdown",
   "metadata": {},
   "source": [
    "# Feeding the data"
   ]
  },
  {
   "cell_type": "code",
   "execution_count": 12,
   "metadata": {},
   "outputs": [],
   "source": [
    "History_demand= { 'Quantity' : ['20-29', '30–39', '40–49','50-59', '60-69', \n",
    "                                         '70-79', '80-89', '90-100'],\n",
    "        'frequency' : [228,80,186,112,17,83,13,11]\n",
    "}"
   ]
  },
  {
   "cell_type": "code",
   "execution_count": 13,
   "metadata": {},
   "outputs": [
    {
     "data": {
      "text/html": [
       "<div>\n",
       "<style scoped>\n",
       "    .dataframe tbody tr th:only-of-type {\n",
       "        vertical-align: middle;\n",
       "    }\n",
       "\n",
       "    .dataframe tbody tr th {\n",
       "        vertical-align: top;\n",
       "    }\n",
       "\n",
       "    .dataframe thead th {\n",
       "        text-align: right;\n",
       "    }\n",
       "</style>\n",
       "<table border=\"1\" class=\"dataframe\">\n",
       "  <thead>\n",
       "    <tr style=\"text-align: right;\">\n",
       "      <th></th>\n",
       "      <th>Quantity</th>\n",
       "      <th>frequency</th>\n",
       "    </tr>\n",
       "  </thead>\n",
       "  <tbody>\n",
       "    <tr>\n",
       "      <th>0</th>\n",
       "      <td>20-29</td>\n",
       "      <td>228</td>\n",
       "    </tr>\n",
       "    <tr>\n",
       "      <th>1</th>\n",
       "      <td>30–39</td>\n",
       "      <td>80</td>\n",
       "    </tr>\n",
       "    <tr>\n",
       "      <th>2</th>\n",
       "      <td>40–49</td>\n",
       "      <td>186</td>\n",
       "    </tr>\n",
       "    <tr>\n",
       "      <th>3</th>\n",
       "      <td>50-59</td>\n",
       "      <td>112</td>\n",
       "    </tr>\n",
       "    <tr>\n",
       "      <th>4</th>\n",
       "      <td>60-69</td>\n",
       "      <td>17</td>\n",
       "    </tr>\n",
       "    <tr>\n",
       "      <th>5</th>\n",
       "      <td>70-79</td>\n",
       "      <td>83</td>\n",
       "    </tr>\n",
       "    <tr>\n",
       "      <th>6</th>\n",
       "      <td>80-89</td>\n",
       "      <td>13</td>\n",
       "    </tr>\n",
       "    <tr>\n",
       "      <th>7</th>\n",
       "      <td>90-100</td>\n",
       "      <td>11</td>\n",
       "    </tr>\n",
       "  </tbody>\n",
       "</table>\n",
       "</div>"
      ],
      "text/plain": [
       "  Quantity  frequency\n",
       "0    20-29        228\n",
       "1    30–39         80\n",
       "2    40–49        186\n",
       "3    50-59        112\n",
       "4    60-69         17\n",
       "5    70-79         83\n",
       "6    80-89         13\n",
       "7   90-100         11"
      ]
     },
     "execution_count": 13,
     "metadata": {},
     "output_type": "execute_result"
    }
   ],
   "source": [
    "global df\n",
    "df = pd.DataFrame(History_demand)\n",
    "df"
   ]
  },
  {
   "cell_type": "markdown",
   "metadata": {},
   "source": [
    "## Calculating relative frequency/probability and cummulative probabilities"
   ]
  },
  {
   "cell_type": "code",
   "execution_count": 14,
   "metadata": {},
   "outputs": [],
   "source": [
    "probability=[]\n",
    "\n",
    "for i in range(len(df)):\n",
    "    probability.append(df['frequency'][i]/sum(df['frequency']))\n",
    "\n",
    "df['probability of occurence']=probability"
   ]
  },
  {
   "cell_type": "code",
   "execution_count": 15,
   "metadata": {},
   "outputs": [
    {
     "data": {
      "text/html": [
       "<div>\n",
       "<style scoped>\n",
       "    .dataframe tbody tr th:only-of-type {\n",
       "        vertical-align: middle;\n",
       "    }\n",
       "\n",
       "    .dataframe tbody tr th {\n",
       "        vertical-align: top;\n",
       "    }\n",
       "\n",
       "    .dataframe thead th {\n",
       "        text-align: right;\n",
       "    }\n",
       "</style>\n",
       "<table border=\"1\" class=\"dataframe\">\n",
       "  <thead>\n",
       "    <tr style=\"text-align: right;\">\n",
       "      <th></th>\n",
       "      <th>Quantity</th>\n",
       "      <th>frequency</th>\n",
       "      <th>probability of occurence</th>\n",
       "      <th>cummulative_probability</th>\n",
       "    </tr>\n",
       "  </thead>\n",
       "  <tbody>\n",
       "    <tr>\n",
       "      <th>0</th>\n",
       "      <td>20-29</td>\n",
       "      <td>228</td>\n",
       "      <td>0.312329</td>\n",
       "      <td>0.312329</td>\n",
       "    </tr>\n",
       "    <tr>\n",
       "      <th>1</th>\n",
       "      <td>30–39</td>\n",
       "      <td>80</td>\n",
       "      <td>0.109589</td>\n",
       "      <td>0.421918</td>\n",
       "    </tr>\n",
       "    <tr>\n",
       "      <th>2</th>\n",
       "      <td>40–49</td>\n",
       "      <td>186</td>\n",
       "      <td>0.254795</td>\n",
       "      <td>0.676712</td>\n",
       "    </tr>\n",
       "    <tr>\n",
       "      <th>3</th>\n",
       "      <td>50-59</td>\n",
       "      <td>112</td>\n",
       "      <td>0.153425</td>\n",
       "      <td>0.830137</td>\n",
       "    </tr>\n",
       "    <tr>\n",
       "      <th>4</th>\n",
       "      <td>60-69</td>\n",
       "      <td>17</td>\n",
       "      <td>0.023288</td>\n",
       "      <td>0.853425</td>\n",
       "    </tr>\n",
       "    <tr>\n",
       "      <th>5</th>\n",
       "      <td>70-79</td>\n",
       "      <td>83</td>\n",
       "      <td>0.113699</td>\n",
       "      <td>0.967123</td>\n",
       "    </tr>\n",
       "    <tr>\n",
       "      <th>6</th>\n",
       "      <td>80-89</td>\n",
       "      <td>13</td>\n",
       "      <td>0.017808</td>\n",
       "      <td>0.984932</td>\n",
       "    </tr>\n",
       "    <tr>\n",
       "      <th>7</th>\n",
       "      <td>90-100</td>\n",
       "      <td>11</td>\n",
       "      <td>0.015068</td>\n",
       "      <td>1.000000</td>\n",
       "    </tr>\n",
       "  </tbody>\n",
       "</table>\n",
       "</div>"
      ],
      "text/plain": [
       "  Quantity  frequency  probability of occurence  cummulative_probability\n",
       "0    20-29        228                  0.312329                 0.312329\n",
       "1    30–39         80                  0.109589                 0.421918\n",
       "2    40–49        186                  0.254795                 0.676712\n",
       "3    50-59        112                  0.153425                 0.830137\n",
       "4    60-69         17                  0.023288                 0.853425\n",
       "5    70-79         83                  0.113699                 0.967123\n",
       "6    80-89         13                  0.017808                 0.984932\n",
       "7   90-100         11                  0.015068                 1.000000"
      ]
     },
     "execution_count": 15,
     "metadata": {},
     "output_type": "execute_result"
    }
   ],
   "source": [
    "#column for cummulative probability\n",
    "cummulative_probability=[]\n",
    "\n",
    "for i in range(1,9):\n",
    "    cummulative_probability.append(sum(df['probability of occurence'][:i]))\n",
    "df['cummulative_probability']=cummulative_probability\n",
    "df"
   ]
  },
  {
   "cell_type": "code",
   "execution_count": 16,
   "metadata": {},
   "outputs": [
    {
     "data": {
      "image/png": "[encoded data removed]",
      "text/plain": [
       "<Figure size 432x288 with 1 Axes>"
      ]
     },
     "metadata": {
      "needs_background": "light"
     },
     "output_type": "display_data"
    }
   ],
   "source": [
    "#Histogram of cummulative\n",
    "xo=np.array(df['Quantity'])\n",
    "xo\n",
    "y=np.array(df['probability of occurence'])\n",
    "y\n",
    "# this is for plotting purpose\n",
    "index = np.arange(len(df))\n",
    "plt.bar(index,y,color='orange',edgecolor='black')\n",
    "plt.xlabel('No of gallons demanded', fontsize=15)\n",
    "plt.ylabel('Probability', fontsize=15)\n",
    "plt.xticks(index,xo, fontsize=10, rotation=30)\n",
    "plt.title('History of daily water usage')\n",
    "\n",
    "plt.show()"
   ]
  },
  {
   "cell_type": "code",
   "execution_count": 17,
   "metadata": {},
   "outputs": [
    {
     "data": {
      "image/png": "[encoded data removed]",
      "text/plain": [
       "<Figure size 432x288 with 1 Axes>"
      ]
     },
     "metadata": {
      "needs_background": "light"
     },
     "output_type": "display_data"
    }
   ],
   "source": [
    "#Histogram of cummulative\n",
    "xo=np.array(df['Quantity'])\n",
    "y=np.array(df['cummulative_probability'])\n",
    "\n",
    "# this is for plotting purpose\n",
    "#plt.figure(figsize=[10,8])\n",
    "index = np.arange(len(y))\n",
    "plt.bar(index,y,color='green',edgecolor='b')\n",
    "plt.xlabel('No of gallons demanded', fontsize=15)\n",
    "plt.ylabel('Cummulative probability', fontsize=15)\n",
    "plt.xticks(index,xo, fontsize=10, rotation=30)\n",
    "plt.title('History of daily water usage')\n",
    "\n",
    "plt.show()"
   ]
  },
  {
   "cell_type": "markdown",
   "metadata": {},
   "source": [
    "## Generation of historical daily demand rates"
   ]
  },
  {
   "cell_type": "code",
   "execution_count": 18,
   "metadata": {},
   "outputs": [],
   "source": [
    "def random_numbers(df,trials):\n",
    "\n",
    "    count=[0 for i in range(len(df))]\n",
    "\n",
    "    for i in range(trials):\n",
    "        x=random.uniform(0, 1)\n",
    "        #print(x)\n",
    "\n",
    "        if x>=0 and x<df['cummulative_probability'][0]:\n",
    "            count[0]+=1\n",
    "\n",
    "        elif x>=df['cummulative_probability'][0] and x<df['cummulative_probability'][1]:\n",
    "            count[1]+=1\n",
    "\n",
    "        elif x>=df['cummulative_probability'][1] and x<df['cummulative_probability'][2]:\n",
    "            count[2]+=1\n",
    "\n",
    "        elif x>=df['cummulative_probability'][2] and x<df['cummulative_probability'][3]:\n",
    "            count[3]+=1\n",
    "\n",
    "        elif x>=df['cummulative_probability'][3] and x<df['cummulative_probability'][4]:\n",
    "            count[4]+=1\n",
    "\n",
    "        elif x>=df['cummulative_probability'][4] and x<df['cummulative_probability'][5]:\n",
    "            count[5]+=1\n",
    "\n",
    "        elif x>=df['cummulative_probability'][5] and x<df['cummulative_probability'][6]:\n",
    "            count[6]+=1\n",
    "\n",
    "        elif x>=df['cummulative_probability'][6] and x<=1:\n",
    "            count[7]+=1\n",
    "            \n",
    "    return count\n"
   ]
  },
  {
   "cell_type": "code",
   "execution_count": 19,
   "metadata": {},
   "outputs": [
    {
     "data": {
      "text/plain": [
       "[322, 109, 267, 141, 22, 102, 25, 12]"
      ]
     },
     "execution_count": 19,
     "metadata": {},
     "output_type": "execute_result"
    }
   ],
   "source": [
    "x1=random_numbers(df,1000) \n",
    "x1"
   ]
  },
  {
   "cell_type": "code",
   "execution_count": 20,
   "metadata": {},
   "outputs": [
    {
     "data": {
      "text/plain": [
       "[3121, 1072, 2573, 1505, 228, 1159, 190, 152]"
      ]
     },
     "execution_count": 20,
     "metadata": {},
     "output_type": "execute_result"
    }
   ],
   "source": [
    "x2=random_numbers(df,10000)\n",
    "x2"
   ]
  },
  {
   "cell_type": "code",
   "execution_count": 21,
   "metadata": {},
   "outputs": [
    {
     "data": {
      "text/plain": [
       "[31427, 10909, 25330, 15331, 2338, 11465, 1706, 1494]"
      ]
     },
     "execution_count": 21,
     "metadata": {},
     "output_type": "execute_result"
    }
   ],
   "source": [
    "x3=random_numbers(df,100000)\n",
    "x3"
   ]
  },
  {
   "cell_type": "code",
   "execution_count": 22,
   "metadata": {},
   "outputs": [
    {
     "data": {
      "text/html": [
       "<div>\n",
       "<style scoped>\n",
       "    .dataframe tbody tr th:only-of-type {\n",
       "        vertical-align: middle;\n",
       "    }\n",
       "\n",
       "    .dataframe tbody tr th {\n",
       "        vertical-align: top;\n",
       "    }\n",
       "\n",
       "    .dataframe thead th {\n",
       "        text-align: right;\n",
       "    }\n",
       "</style>\n",
       "<table border=\"1\" class=\"dataframe\">\n",
       "  <thead>\n",
       "    <tr style=\"text-align: right;\">\n",
       "      <th></th>\n",
       "      <th>Quantity</th>\n",
       "      <th>probability of occurence</th>\n",
       "      <th>Result from 1000 simulation</th>\n",
       "      <th>Result from 10000 simulation</th>\n",
       "      <th>Result from 100000 simulation</th>\n",
       "    </tr>\n",
       "  </thead>\n",
       "  <tbody>\n",
       "    <tr>\n",
       "      <th>0</th>\n",
       "      <td>20-29</td>\n",
       "      <td>0.312329</td>\n",
       "      <td>0.322</td>\n",
       "      <td>0.3121</td>\n",
       "      <td>0.31427</td>\n",
       "    </tr>\n",
       "    <tr>\n",
       "      <th>1</th>\n",
       "      <td>30–39</td>\n",
       "      <td>0.109589</td>\n",
       "      <td>0.109</td>\n",
       "      <td>0.1072</td>\n",
       "      <td>0.10909</td>\n",
       "    </tr>\n",
       "    <tr>\n",
       "      <th>2</th>\n",
       "      <td>40–49</td>\n",
       "      <td>0.254795</td>\n",
       "      <td>0.267</td>\n",
       "      <td>0.2573</td>\n",
       "      <td>0.25330</td>\n",
       "    </tr>\n",
       "    <tr>\n",
       "      <th>3</th>\n",
       "      <td>50-59</td>\n",
       "      <td>0.153425</td>\n",
       "      <td>0.141</td>\n",
       "      <td>0.1505</td>\n",
       "      <td>0.15331</td>\n",
       "    </tr>\n",
       "    <tr>\n",
       "      <th>4</th>\n",
       "      <td>60-69</td>\n",
       "      <td>0.023288</td>\n",
       "      <td>0.022</td>\n",
       "      <td>0.0228</td>\n",
       "      <td>0.02338</td>\n",
       "    </tr>\n",
       "    <tr>\n",
       "      <th>5</th>\n",
       "      <td>70-79</td>\n",
       "      <td>0.113699</td>\n",
       "      <td>0.102</td>\n",
       "      <td>0.1159</td>\n",
       "      <td>0.11465</td>\n",
       "    </tr>\n",
       "    <tr>\n",
       "      <th>6</th>\n",
       "      <td>80-89</td>\n",
       "      <td>0.017808</td>\n",
       "      <td>0.025</td>\n",
       "      <td>0.0190</td>\n",
       "      <td>0.01706</td>\n",
       "    </tr>\n",
       "    <tr>\n",
       "      <th>7</th>\n",
       "      <td>90-100</td>\n",
       "      <td>0.015068</td>\n",
       "      <td>0.012</td>\n",
       "      <td>0.0152</td>\n",
       "      <td>0.01494</td>\n",
       "    </tr>\n",
       "  </tbody>\n",
       "</table>\n",
       "</div>"
      ],
      "text/plain": [
       "  Quantity  probability of occurence  Result from 1000 simulation  \\\n",
       "0    20-29                  0.312329                        0.322   \n",
       "1    30–39                  0.109589                        0.109   \n",
       "2    40–49                  0.254795                        0.267   \n",
       "3    50-59                  0.153425                        0.141   \n",
       "4    60-69                  0.023288                        0.022   \n",
       "5    70-79                  0.113699                        0.102   \n",
       "6    80-89                  0.017808                        0.025   \n",
       "7   90-100                  0.015068                        0.012   \n",
       "\n",
       "   Result from 10000 simulation  Result from 100000 simulation  \n",
       "0                        0.3121                        0.31427  \n",
       "1                        0.1072                        0.10909  \n",
       "2                        0.2573                        0.25330  \n",
       "3                        0.1505                        0.15331  \n",
       "4                        0.0228                        0.02338  \n",
       "5                        0.1159                        0.11465  \n",
       "6                        0.0190                        0.01706  \n",
       "7                        0.0152                        0.01494  "
      ]
     },
     "execution_count": 22,
     "metadata": {},
     "output_type": "execute_result"
    }
   ],
   "source": [
    "df2=df.filter(['Quantity','probability of occurence'])\n",
    "df2['Result from 1000 simulation']=[i/1000 for i in x1]\n",
    "df2['Result from 10000 simulation']=[i/10000 for i in x2]\n",
    "df2['Result from 100000 simulation']=[i/100000 for i in x3]\n",
    "df2"
   ]
  },
  {
   "cell_type": "markdown",
   "metadata": {},
   "source": [
    "## Plotting and comparing the results from 10,000 and 100,000 simulation"
   ]
  },
  {
   "cell_type": "code",
   "execution_count": 23,
   "metadata": {},
   "outputs": [
    {
     "data": {
      "image/png": "[encoded data removed]",
      "text/plain": [
       "<Figure size 432x288 with 1 Axes>"
      ]
     },
     "metadata": {
      "needs_background": "light"
     },
     "output_type": "display_data"
    }
   ],
   "source": [
    "# data to plot\n",
    "x2=np.array(df2['Result from 10000 simulation'])\n",
    "x3=np.array(df2['Result from 100000 simulation'])\n",
    "\n",
    "# create plot\n",
    "#plt.figure(figsize=[20,15])\n",
    "fig, ax = plt.subplots()\n",
    "index = np.arange(len(x2))\n",
    "bar_width = 0.4\n",
    "opacity = 0.8\n",
    "\n",
    "\n",
    "rects1 = plt.bar(index, x2, bar_width,\n",
    "alpha=opacity,\n",
    "color='b',\n",
    "label='10,000')\n",
    "\n",
    "rects2 = plt.bar(index + bar_width, x3, bar_width,\n",
    "alpha=opacity,\n",
    "color='g',\n",
    "label='100,000')\n",
    "\n",
    "plt.xlabel('No of gallons demanded', fontsize=12)\n",
    "plt.ylabel('Probability', fontsize=12)\n",
    "plt.title('Simulated demands from 10,000 and 100,000 random numbers')\n",
    "plt.xticks(index + bar_width, xo, fontsize=10)\n",
    "plt.legend()\n",
    "\n",
    "plt.tight_layout()\n",
    "plt.show()\n",
    "\n",
    "#plt.xticks(index,xo, fontsize=10, rotation=30)\n",
    "\n",
    "# plt.show()"
   ]
  },
  {
   "cell_type": "markdown",
   "metadata": {},
   "source": [
    "## Graph for spline"
   ]
  },
  {
   "cell_type": "code",
   "execution_count": 24,
   "metadata": {},
   "outputs": [
    {
     "data": {
      "text/html": [
       "<div>\n",
       "<style scoped>\n",
       "    .dataframe tbody tr th:only-of-type {\n",
       "        vertical-align: middle;\n",
       "    }\n",
       "\n",
       "    .dataframe tbody tr th {\n",
       "        vertical-align: top;\n",
       "    }\n",
       "\n",
       "    .dataframe thead th {\n",
       "        text-align: right;\n",
       "    }\n",
       "</style>\n",
       "<table border=\"1\" class=\"dataframe\">\n",
       "  <thead>\n",
       "    <tr style=\"text-align: right;\">\n",
       "      <th></th>\n",
       "      <th>Quantity</th>\n",
       "      <th>Midpoints</th>\n",
       "      <th>cumulative probabilites</th>\n",
       "    </tr>\n",
       "  </thead>\n",
       "  <tbody>\n",
       "    <tr>\n",
       "      <th>0</th>\n",
       "      <td>20-29</td>\n",
       "      <td>25</td>\n",
       "      <td>0.312329</td>\n",
       "    </tr>\n",
       "    <tr>\n",
       "      <th>1</th>\n",
       "      <td>30–39</td>\n",
       "      <td>35</td>\n",
       "      <td>0.421918</td>\n",
       "    </tr>\n",
       "    <tr>\n",
       "      <th>2</th>\n",
       "      <td>40–49</td>\n",
       "      <td>45</td>\n",
       "      <td>0.676712</td>\n",
       "    </tr>\n",
       "    <tr>\n",
       "      <th>3</th>\n",
       "      <td>50-59</td>\n",
       "      <td>55</td>\n",
       "      <td>0.830137</td>\n",
       "    </tr>\n",
       "    <tr>\n",
       "      <th>4</th>\n",
       "      <td>60-69</td>\n",
       "      <td>65</td>\n",
       "      <td>0.853425</td>\n",
       "    </tr>\n",
       "    <tr>\n",
       "      <th>5</th>\n",
       "      <td>70-79</td>\n",
       "      <td>75</td>\n",
       "      <td>0.967123</td>\n",
       "    </tr>\n",
       "    <tr>\n",
       "      <th>6</th>\n",
       "      <td>80-89</td>\n",
       "      <td>85</td>\n",
       "      <td>0.984932</td>\n",
       "    </tr>\n",
       "    <tr>\n",
       "      <th>7</th>\n",
       "      <td>90-100</td>\n",
       "      <td>95</td>\n",
       "      <td>1.000000</td>\n",
       "    </tr>\n",
       "  </tbody>\n",
       "</table>\n",
       "</div>"
      ],
      "text/plain": [
       "  Quantity  Midpoints  cumulative probabilites\n",
       "0    20-29         25                 0.312329\n",
       "1    30–39         35                 0.421918\n",
       "2    40–49         45                 0.676712\n",
       "3    50-59         55                 0.830137\n",
       "4    60-69         65                 0.853425\n",
       "5    70-79         75                 0.967123\n",
       "6    80-89         85                 0.984932\n",
       "7   90-100         95                 1.000000"
      ]
     },
     "execution_count": 24,
     "metadata": {},
     "output_type": "execute_result"
    },
    {
     "data": {
      "image/png": "[encoded data removed]",
      "text/plain": [
       "<Figure size 432x432 with 1 Axes>"
      ]
     },
     "metadata": {
      "needs_background": "light"
     },
     "output_type": "display_data"
    }
   ],
   "source": [
    "y = np.array(df['cummulative_probability'])\n",
    "x = [25,35,45,55,65,75,85,95]\n",
    "\n",
    "df3=df.filter(['Quantity'])\n",
    "df3['Midpoints']=x\n",
    "df3['cumulative probabilites']=df['cummulative_probability']\n",
    "\n",
    "plt.figure(figsize=[6,6])\n",
    "plt.xlabel('Mid points of interval',fontsize=12)\n",
    "plt.ylabel('Cumulative probability',fontsize=12)\n",
    "plt.title('Graph for spline')\n",
    "plt.plot(x, y,marker='o',color='blue')\n",
    "df3"
   ]
  },
  {
   "cell_type": "markdown",
   "metadata": {},
   "source": [
    "## Demand submodel"
   ]
  },
  {
   "cell_type": "code",
   "execution_count": 25,
   "metadata": {},
   "outputs": [],
   "source": [
    "def demand_submodel(x):\n",
    "    qi=0\n",
    "    \n",
    "    if x>=0 and x<df['cummulative_probability'][0]:\n",
    "        qi=(20+29)/2\n",
    "\n",
    "    elif x>=df['cummulative_probability'][0] and x<df['cummulative_probability'][1]:\n",
    "        qi=(30+39)/2\n",
    "\n",
    "    elif x>=df['cummulative_probability'][1] and x<df['cummulative_probability'][2]:\n",
    "        qi=(40+49)/2\n",
    "\n",
    "    elif x>=df['cummulative_probability'][2] and x<df['cummulative_probability'][3]:\n",
    "        qi=(50+59)/2\n",
    "\n",
    "    elif x>=df['cummulative_probability'][3] and x<df['cummulative_probability'][4]:\n",
    "        qi=(60+69)/2\n",
    "\n",
    "    elif x>=df['cummulative_probability'][4] and x<df['cummulative_probability'][5]:\n",
    "        qi=(70+79)/2\n",
    "\n",
    "    elif x>=df['cummulative_probability'][5] and x<df['cummulative_probability'][6]:\n",
    "        qi=(80+89)/2\n",
    "\n",
    "    elif x>=df['cummulative_probability'][6] and x<=1:\n",
    "        qi=(90+100)/2\n",
    "\n",
    "    return qi"
   ]
  },
  {
   "cell_type": "code",
   "execution_count": 26,
   "metadata": {},
   "outputs": [],
   "source": [
    "def sim_model(Q,T,N,d,s):\n",
    "    \n",
    "    #step 1\n",
    "    K = N\n",
    "    I = 0\n",
    "    C = 0\n",
    "    Flag = True\n",
    "    no_water=0\n",
    "\n",
    "    while Flag:\n",
    "        #step2\n",
    "        I = I + Q\n",
    "        C = C + d\n",
    "\n",
    "        #step3\n",
    "        if T>=K:\n",
    "            T=K\n",
    "            Flag=False\n",
    "\n",
    "        #step4\n",
    "        for i in range(1,T+1):\n",
    "            #step5\n",
    "            xi = random.uniform(0, 1)\n",
    "            #print(xi)\n",
    "\n",
    "            #step6\n",
    "            qi = demand_submodel(xi)\n",
    "            #print(qi)\n",
    "\n",
    "            #step7\n",
    "            I = I- qi\n",
    "\n",
    "            #step8\n",
    "            if I<=0:\n",
    "                I=0\n",
    "                no_water+=1\n",
    "                continue\n",
    "            else:\n",
    "                C = C + I*s        \n",
    "\n",
    "            #step9\n",
    "            K = K - 1\n",
    "\n",
    "        #step10    \n",
    "        if Flag==True:\n",
    "            continue\n",
    "\n",
    "        else:\n",
    "            #step11\n",
    "            c = C/N\n",
    "            c=round(c,2)\n",
    "\n",
    "            #step12\n",
    "            #print(\"Average daily cost: {}\".format(c) +\"$\")\n",
    "            break\n",
    "\n",
    "    return [c,no_water]"
   ]
  },
  {
   "cell_type": "code",
   "execution_count": 27,
   "metadata": {},
   "outputs": [
    {
     "name": "stdout",
     "output_type": "stream",
     "text": [
      "Average daily cost:8.3$\n",
      "\n",
      "Days without water:0\n"
     ]
    }
   ],
   "source": [
    "# Parameters\n",
    "Q = 800      # Delivery quantity (gallons)\n",
    "T = 15       # Time between deliveries (days)\n",
    "N = 365      # Length of simulation (days)\n",
    "d = 92.00    # Delivery cost (dollars per delivery)\n",
    "s = 0.001    # Storage cost (dollars per gallon per day)\n",
    "\n",
    "\n",
    "results=sim_model(Q,T,N,d,s)\n",
    "print('Average daily cost:{}'.format(results[0])+'$')\n",
    "print('\\nDays without water:{}'.format(results[1]))"
   ]
  },
  {
   "cell_type": "markdown",
   "metadata": {},
   "source": [
    "## Histogram for avg daily cost"
   ]
  },
  {
   "cell_type": "code",
   "execution_count": 28,
   "metadata": {},
   "outputs": [],
   "source": [
    "t=np.array([sim_model(Q,T,N,d,s)[0] for i in range(100)])"
   ]
  },
  {
   "cell_type": "code",
   "execution_count": 29,
   "metadata": {},
   "outputs": [
    {
     "data": {
      "image/png": "[encoded data removed]",
      "text/plain": [
       "<Figure size 720x576 with 1 Axes>"
      ]
     },
     "metadata": {
      "needs_background": "light"
     },
     "output_type": "display_data"
    }
   ],
   "source": [
    "plt.figure(figsize=[10,8])\n",
    "n, bins, patches = plt.hist(x=t, bins='auto', color='#0504aa',alpha=0.7, rwidth=0.85)\n",
    "plt.grid(axis='y', alpha=0.75)\n",
    "plt.xlabel('Average daily cost (USD)',fontsize=15)\n",
    "plt.ylabel('Frequency',fontsize=15)\n",
    "plt.xticks(fontsize=15)\n",
    "plt.yticks(fontsize=15)\n",
    "plt.title('Simulation for avg daily cost',fontsize=15)\n",
    "plt.show()"
   ]
  },
  {
   "cell_type": "markdown",
   "metadata": {},
   "source": [
    "## Trial and Error"
   ]
  },
  {
   "cell_type": "code",
   "execution_count": 30,
   "metadata": {},
   "outputs": [
    {
     "name": "stdout",
     "output_type": "stream",
     "text": [
      "Average daily cost:8.32$\n",
      "\n",
      "Days without water:0\n"
     ]
    }
   ],
   "source": [
    "# Parameters\n",
    "Q = 800      # Delivery quantity (gallons)\n",
    "T = 15       # Time between deliveries (days)\n",
    "N = 365      # Length of simulation (days)\n",
    "d = 92.00    # Delivery cost (dollars per delivery)\n",
    "s = 0.001    # Storage cost (dollars per gallon per day)\n",
    "\n",
    "\n",
    "results=sim_model(Q,T,N,d,s)\n",
    "print('Average daily cost:{}'.format(results[0])+'$')\n",
    "print('\\nDays without water:{}'.format(results[1]))"
   ]
  },
  {
   "cell_type": "code",
   "execution_count": 31,
   "metadata": {},
   "outputs": [
    {
     "name": "stdout",
     "output_type": "stream",
     "text": [
      "Average daily cost:5.34$\n",
      "\n",
      "Days without water:3\n"
     ]
    }
   ],
   "source": [
    "# Parameters\n",
    "Q = 900      # Delivery quantity (gallons)\n",
    "T = 20       # Time between deliveries (days)\n",
    "N = 365      # Length of simulation (days)\n",
    "d = 92.00    # Delivery cost (dollars per delivery)\n",
    "s = 0.001    # Storage cost (dollars per gallon per day)\n",
    "\n",
    "\n",
    "results=sim_model(Q,T,N,d,s)\n",
    "print('Average daily cost:{}'.format(results[0])+'$')\n",
    "print('\\nDays without water:{}'.format(results[1]))"
   ]
  },
  {
   "cell_type": "code",
   "execution_count": 32,
   "metadata": {},
   "outputs": [
    {
     "name": "stdout",
     "output_type": "stream",
     "text": [
      "Average daily cost:5.72$\n",
      "\n",
      "Days without water:0\n"
     ]
    }
   ],
   "source": [
    "# Parameters\n",
    "Q = 1100     # Delivery quantity (gallons)\n",
    "T = 22       # Time between deliveries (days)\n",
    "N = 365      # Length of simulation (days)\n",
    "d = 92.00    # Delivery cost (dollars per delivery)\n",
    "s = 0.001    # Storage cost (dollars per gallon per day)\n",
    "\n",
    "\n",
    "results=sim_model(Q,T,N,d,s)\n",
    "print('Average daily cost:{}'.format(results[0])+'$')\n",
    "print('\\nDays without water:{}'.format(results[1]))"
   ]
  },
  {
   "cell_type": "code",
   "execution_count": 33,
   "metadata": {},
   "outputs": [
    {
     "name": "stdout",
     "output_type": "stream",
     "text": [
      "Average daily cost:4.5$\n",
      "\n",
      "Days without water:0\n"
     ]
    }
   ],
   "source": [
    "# Parameters\n",
    "Q = 1400     # Delivery quantity (gallons)\n",
    "T = 30       # Time between deliveries (days)\n",
    "N = 365      # Length of simulation (days)\n",
    "d = 92.00    # Delivery cost (dollars per delivery)\n",
    "s = 0.001    # Storage cost (dollars per gallon per day)\n",
    "\n",
    "\n",
    "results=sim_model(Q,T,N,d,s)\n",
    "print('Average daily cost:{}'.format(results[0])+'$')\n",
    "print('\\nDays without water:{}'.format(results[1]))"
   ]
  },
  {
   "cell_type": "code",
   "execution_count": null,
   "metadata": {},
   "outputs": [],
   "source": []
  }
 ],
 "metadata": {
  "kernelspec": {
   "display_name": "Python 3",
   "language": "python",
   "name": "python3"
  },
  "language_info": {
   "codemirror_mode": {
    "name": "ipython",
    "version": 3
   },
   "file_extension": ".py",
   "mimetype": "text/x-python",
   "name": "python",
   "nbconvert_exporter": "python",
   "pygments_lexer": "ipython3",
   "version": "3.6.9"
  }
 },
 "nbformat": 4,
 "nbformat_minor": 2
}
